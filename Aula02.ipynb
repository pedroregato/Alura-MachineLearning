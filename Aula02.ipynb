{
  "nbformat": 4,
  "nbformat_minor": 0,
  "metadata": {
    "colab": {
      "name": "Aula02.ipynb",
      "provenance": [],
      "collapsed_sections": [],
      "authorship_tag": "ABX9TyNRqjxGiUoAxTpzq5QZKj2k",
      "include_colab_link": true
    },
    "kernelspec": {
      "name": "python3",
      "display_name": "Python 3"
    },
    "language_info": {
      "name": "python"
    }
  },
  "cells": [
    {
      "cell_type": "markdown",
      "metadata": {
        "id": "view-in-github",
        "colab_type": "text"
      },
      "source": [
        "<a href=\"https://colab.research.google.com/github/pedroregato/Alura-MachineLearning/blob/main/Aula02.ipynb\" target=\"_parent\"><img src=\"https://colab.research.google.com/assets/colab-badge.svg\" alt=\"Open In Colab\"/></a>"
      ]
    },
    {
      "cell_type": "markdown",
      "metadata": {
        "id": "wmrRHcD5pq2v"
      },
      "source": [
        "**02\n",
        "Lendo dados da internet e manipulando os mesmos**"
      ]
    },
    {
      "cell_type": "markdown",
      "metadata": {
        "id": "_tK5Olr_pzqd"
      },
      "source": [
        "Neste aula, trabalharemos como uma outra [fonte de dados](https://gist.githubusercontent.com/guilhermesilveira/2d2efa37d66b6c84a722ea627a897ced/raw/10968b997d885cbded1c92938c7a9912ba41c615/tracking.csv) para nosso projeto.\n",
        "\n",
        "Nela, encontramos uma tabela com quatro colunas diferentes, e na qual cada item representa um usuário que acessou um determinado site. Neste site, temos três páginas diferentes: a principal (home); a how it works, que explica o funcionamento do site; e contact, para entrar em contato.\n",
        "\n",
        "Em cada uma dessas três colunas, que são as features, temos 1 ou 0, indicando se um usuário específico acessou essa página ou não, respectivamente. Por enquanto não nos importa saber a ordem de páginas acessada pelo usuário.\n",
        "\n",
        "Também temos uma quarta coluna (bought) indicando se esse usuário comprou o produto (1) ou não (0). Abaixo temos uma parte da tabela para demonstração:\n",
        "\n",
        "home\thow_it_works\tcontact\tbought\n",
        "1\t1\t0\t0\n",
        "1\t1\t0\t0\n",
        "1\t1\t0\t0\n",
        "1\t1\t0\t0\n",
        "1\t0\t1\t1\n",
        "1\t1\t0\t0\n",
        "Clicando no botão raw, podemos acessar o formato padrão do arquivo, que apresenta o seguinte aspecto:"
      ]
    },
    {
      "cell_type": "code",
      "metadata": {
        "id": "ozIcysu2rr7Z"
      },
      "source": [
        "home,how_it_works,contact,bought\n",
        "1,1,0,0\n",
        "1,1,0,0\n",
        "1,1,0,0\n",
        "1,1,0,0\n",
        "1,1,1,1\n",
        "1,1,0,0"
      ],
      "execution_count": null,
      "outputs": []
    },
    {
      "cell_type": "markdown",
      "metadata": {
        "id": "cL_pmRAGrthE"
      },
      "source": [
        "Nesse formato os elementos são separados por vírgulas, cada linha representa um usuário e cada coluna uma das features ou a informação de que o usuário comprou ou não um produto.\n",
        "\n",
        "De volta ao Google Colab, selecionaremos \"File > NewPython 3 notebook\" para criar uma nova área de trabalho. Criado o novo arquivo, o chamaremos de Introdução a Machine Learning Classificação - 2.ipynb.\n",
        "\n",
        "Nós queremos ler o arquvo cru da tabela anterior (.csv). Para isso, usaremos a biblioteca Pandas. A maneira padrão de importar essa biblioteca é import pandas as pd. Em seguida, com pd.read_csv(uri), faremos a leitura do arquivo .csv. Você pode copiar essa uri do código abaixo:"
      ]
    },
    {
      "cell_type": "code",
      "metadata": {
        "colab": {
          "base_uri": "https://localhost:8080/",
          "height": 402
        },
        "id": "EUUZ6UJVryIl",
        "outputId": "b2375d22-6d31-4d1a-be9a-73439587a209"
      },
      "source": [
        "import pandas as pd\n",
        "\n",
        "uri = \"https://gist.githubusercontent.com/guilhermesilveira/2d2efa37d66b6c84a722ea627a897ced/raw/10968b997d885cbded1c92938c7a9912ba41c615/tracking.csv\"\n",
        "pd.read_csv(uri)"
      ],
      "execution_count": 2,
      "outputs": [
        {
          "output_type": "execute_result",
          "data": {
            "text/html": [
              "<div>\n",
              "<style scoped>\n",
              "    .dataframe tbody tr th:only-of-type {\n",
              "        vertical-align: middle;\n",
              "    }\n",
              "\n",
              "    .dataframe tbody tr th {\n",
              "        vertical-align: top;\n",
              "    }\n",
              "\n",
              "    .dataframe thead th {\n",
              "        text-align: right;\n",
              "    }\n",
              "</style>\n",
              "<table border=\"1\" class=\"dataframe\">\n",
              "  <thead>\n",
              "    <tr style=\"text-align: right;\">\n",
              "      <th></th>\n",
              "      <th>home</th>\n",
              "      <th>how_it_works</th>\n",
              "      <th>contact</th>\n",
              "      <th>bought</th>\n",
              "    </tr>\n",
              "  </thead>\n",
              "  <tbody>\n",
              "    <tr>\n",
              "      <th>0</th>\n",
              "      <td>1</td>\n",
              "      <td>1</td>\n",
              "      <td>0</td>\n",
              "      <td>0</td>\n",
              "    </tr>\n",
              "    <tr>\n",
              "      <th>1</th>\n",
              "      <td>1</td>\n",
              "      <td>1</td>\n",
              "      <td>0</td>\n",
              "      <td>0</td>\n",
              "    </tr>\n",
              "    <tr>\n",
              "      <th>2</th>\n",
              "      <td>1</td>\n",
              "      <td>1</td>\n",
              "      <td>0</td>\n",
              "      <td>0</td>\n",
              "    </tr>\n",
              "    <tr>\n",
              "      <th>3</th>\n",
              "      <td>1</td>\n",
              "      <td>1</td>\n",
              "      <td>0</td>\n",
              "      <td>0</td>\n",
              "    </tr>\n",
              "    <tr>\n",
              "      <th>4</th>\n",
              "      <td>1</td>\n",
              "      <td>1</td>\n",
              "      <td>0</td>\n",
              "      <td>0</td>\n",
              "    </tr>\n",
              "    <tr>\n",
              "      <th>...</th>\n",
              "      <td>...</td>\n",
              "      <td>...</td>\n",
              "      <td>...</td>\n",
              "      <td>...</td>\n",
              "    </tr>\n",
              "    <tr>\n",
              "      <th>94</th>\n",
              "      <td>0</td>\n",
              "      <td>0</td>\n",
              "      <td>1</td>\n",
              "      <td>0</td>\n",
              "    </tr>\n",
              "    <tr>\n",
              "      <th>95</th>\n",
              "      <td>1</td>\n",
              "      <td>1</td>\n",
              "      <td>1</td>\n",
              "      <td>1</td>\n",
              "    </tr>\n",
              "    <tr>\n",
              "      <th>96</th>\n",
              "      <td>0</td>\n",
              "      <td>0</td>\n",
              "      <td>1</td>\n",
              "      <td>0</td>\n",
              "    </tr>\n",
              "    <tr>\n",
              "      <th>97</th>\n",
              "      <td>0</td>\n",
              "      <td>1</td>\n",
              "      <td>0</td>\n",
              "      <td>0</td>\n",
              "    </tr>\n",
              "    <tr>\n",
              "      <th>98</th>\n",
              "      <td>0</td>\n",
              "      <td>0</td>\n",
              "      <td>0</td>\n",
              "      <td>0</td>\n",
              "    </tr>\n",
              "  </tbody>\n",
              "</table>\n",
              "<p>99 rows × 4 columns</p>\n",
              "</div>"
            ],
            "text/plain": [
              "    home  how_it_works  contact  bought\n",
              "0      1             1        0       0\n",
              "1      1             1        0       0\n",
              "2      1             1        0       0\n",
              "3      1             1        0       0\n",
              "4      1             1        0       0\n",
              "..   ...           ...      ...     ...\n",
              "94     0             0        1       0\n",
              "95     1             1        1       1\n",
              "96     0             0        1       0\n",
              "97     0             1        0       0\n",
              "98     0             0        0       0\n",
              "\n",
              "[99 rows x 4 columns]"
            ]
          },
          "metadata": {
            "tags": []
          },
          "execution_count": 2
        }
      ]
    },
    {
      "cell_type": "markdown",
      "metadata": {
        "id": "9PASWKour_g9"
      },
      "source": [
        "Ao pressionarmos \"Shift + Enter\", será exibida a tabela com os dados do arquivo cru. Neste caso, temos todos os dados disponíveis neste único arquivo, portanto usaremos a variável genérica dados para representar essas informações. Nosso objetivo inicial é imprimir somente as primeiras linhas da tabela, o que é feito com head():"
      ]
    },
    {
      "cell_type": "code",
      "metadata": {
        "colab": {
          "base_uri": "https://localhost:8080/",
          "height": 195
        },
        "id": "ZgllsRZasAvv",
        "outputId": "702459e8-8120-4453-a84e-ce15ddc29b86"
      },
      "source": [
        "import pandas as pd\n",
        "\n",
        "uri = \"https://gist.githubusercontent.com/guilhermesilveira/2d2efa37d66b6c84a722ea627a897ced/raw/10968b997d885cbded1c92938c7a9912ba41c615/tracking.csv\"\n",
        "dados = pd.read_csv(uri)\n",
        "dados.head()"
      ],
      "execution_count": 3,
      "outputs": [
        {
          "output_type": "execute_result",
          "data": {
            "text/html": [
              "<div>\n",
              "<style scoped>\n",
              "    .dataframe tbody tr th:only-of-type {\n",
              "        vertical-align: middle;\n",
              "    }\n",
              "\n",
              "    .dataframe tbody tr th {\n",
              "        vertical-align: top;\n",
              "    }\n",
              "\n",
              "    .dataframe thead th {\n",
              "        text-align: right;\n",
              "    }\n",
              "</style>\n",
              "<table border=\"1\" class=\"dataframe\">\n",
              "  <thead>\n",
              "    <tr style=\"text-align: right;\">\n",
              "      <th></th>\n",
              "      <th>home</th>\n",
              "      <th>how_it_works</th>\n",
              "      <th>contact</th>\n",
              "      <th>bought</th>\n",
              "    </tr>\n",
              "  </thead>\n",
              "  <tbody>\n",
              "    <tr>\n",
              "      <th>0</th>\n",
              "      <td>1</td>\n",
              "      <td>1</td>\n",
              "      <td>0</td>\n",
              "      <td>0</td>\n",
              "    </tr>\n",
              "    <tr>\n",
              "      <th>1</th>\n",
              "      <td>1</td>\n",
              "      <td>1</td>\n",
              "      <td>0</td>\n",
              "      <td>0</td>\n",
              "    </tr>\n",
              "    <tr>\n",
              "      <th>2</th>\n",
              "      <td>1</td>\n",
              "      <td>1</td>\n",
              "      <td>0</td>\n",
              "      <td>0</td>\n",
              "    </tr>\n",
              "    <tr>\n",
              "      <th>3</th>\n",
              "      <td>1</td>\n",
              "      <td>1</td>\n",
              "      <td>0</td>\n",
              "      <td>0</td>\n",
              "    </tr>\n",
              "    <tr>\n",
              "      <th>4</th>\n",
              "      <td>1</td>\n",
              "      <td>1</td>\n",
              "      <td>0</td>\n",
              "      <td>0</td>\n",
              "    </tr>\n",
              "  </tbody>\n",
              "</table>\n",
              "</div>"
            ],
            "text/plain": [
              "   home  how_it_works  contact  bought\n",
              "0     1             1        0       0\n",
              "1     1             1        0       0\n",
              "2     1             1        0       0\n",
              "3     1             1        0       0\n",
              "4     1             1        0       0"
            ]
          },
          "metadata": {
            "tags": []
          },
          "execution_count": 3
        }
      ]
    },
    {
      "cell_type": "markdown",
      "metadata": {
        "id": "CUn1NVPssHOr"
      },
      "source": [
        "Contudo, ao refletirmos sobre o modelo que estamos adotando, seria mais interessante que a coluna bought fosse separada das outras três, afinal ela corresponde no modelo da função ao y*, enquanto nossas features (home, *howitworks e contact) representam **x.\n",
        "\n",
        "Para selecionarmos especificamente as três primeiras colunas, usaremos a sintaxe dados[[\"home\",\"how_it_works\",\"contact\"]]. Como são várias colunas, precisamos passar esses conteúdos dentro de um array. Ao executarmos a código, teremos a tabela atualizada:"
      ]
    },
    {
      "cell_type": "markdown",
      "metadata": {
        "id": "BzyluEhGsNSS"
      },
      "source": [
        "\n",
        "home\thow_it_works\tcontact\n",
        "1\t1\t0\n",
        "1\t1\t0\n",
        "1\t1\t0\n",
        "1\t1\t0\n",
        "1\t0\t1\n",
        "No código, chamaremos essas features de x. Para y, atriburemos dados[[\"bought\"]], ou seja, somente a coluna bought:\n"
      ]
    },
    {
      "cell_type": "code",
      "metadata": {
        "id": "TXf5A60MsIQc"
      },
      "source": [
        "x= dados[[\"home\",\"how_it_works\",\"contact\"]]\n",
        "y= dados[[\"bought\"]]"
      ],
      "execution_count": 5,
      "outputs": []
    },
    {
      "cell_type": "markdown",
      "metadata": {
        "id": "8Yi0CZq8sU_r"
      },
      "source": [
        "No caso de y, não é necessário utilizar o colchete extra (ou seja, [[]]), pois estamos extraindo apenas uma única coluna. Podemos imprimir somente a coluna \"bought\" utilizando print(y) ou y.head() (para exibir apenas os cinco primeiros itens dessa lista):"
      ]
    },
    {
      "cell_type": "markdown",
      "metadata": {
        "id": "s4poseKksXGx"
      },
      "source": [
        "\n",
        "Name: bought, dtype: int64\n",
        "0\n",
        "0\n",
        "0\n",
        "0\n",
        "0\n",
        "Algumas vezes preferimos trabalhar com as features em português. Para modificar as nomeações em inglês que já estamos utilizando, usaremos uma funcionalidade do Pandas que possibilita a renomeação das colunas: dados.rename(columns). Em seguida, passaremos mapa, um dicionário do Python em que declaramos qual será o nome das respectivas colunas:"
      ]
    },
    {
      "cell_type": "code",
      "metadata": {
        "colab": {
          "base_uri": "https://localhost:8080/",
          "height": 402
        },
        "id": "E6zQ3P1DsawZ",
        "outputId": "79667223-4145-4ac8-b4af-b4575a85634b"
      },
      "source": [
        "mapa = { \n",
        "    \"home\" : \"principal\",\n",
        "    \"how_it_works\" : \"como_funciona\",\n",
        "    \"contact\" : \"contato\",\n",
        "    \"bought\" : \"comprou\"\n",
        "}\n",
        "dados.rename(columns = mapa)"
      ],
      "execution_count": 6,
      "outputs": [
        {
          "output_type": "execute_result",
          "data": {
            "text/html": [
              "<div>\n",
              "<style scoped>\n",
              "    .dataframe tbody tr th:only-of-type {\n",
              "        vertical-align: middle;\n",
              "    }\n",
              "\n",
              "    .dataframe tbody tr th {\n",
              "        vertical-align: top;\n",
              "    }\n",
              "\n",
              "    .dataframe thead th {\n",
              "        text-align: right;\n",
              "    }\n",
              "</style>\n",
              "<table border=\"1\" class=\"dataframe\">\n",
              "  <thead>\n",
              "    <tr style=\"text-align: right;\">\n",
              "      <th></th>\n",
              "      <th>principal</th>\n",
              "      <th>como_funciona</th>\n",
              "      <th>contato</th>\n",
              "      <th>comprou</th>\n",
              "    </tr>\n",
              "  </thead>\n",
              "  <tbody>\n",
              "    <tr>\n",
              "      <th>0</th>\n",
              "      <td>1</td>\n",
              "      <td>1</td>\n",
              "      <td>0</td>\n",
              "      <td>0</td>\n",
              "    </tr>\n",
              "    <tr>\n",
              "      <th>1</th>\n",
              "      <td>1</td>\n",
              "      <td>1</td>\n",
              "      <td>0</td>\n",
              "      <td>0</td>\n",
              "    </tr>\n",
              "    <tr>\n",
              "      <th>2</th>\n",
              "      <td>1</td>\n",
              "      <td>1</td>\n",
              "      <td>0</td>\n",
              "      <td>0</td>\n",
              "    </tr>\n",
              "    <tr>\n",
              "      <th>3</th>\n",
              "      <td>1</td>\n",
              "      <td>1</td>\n",
              "      <td>0</td>\n",
              "      <td>0</td>\n",
              "    </tr>\n",
              "    <tr>\n",
              "      <th>4</th>\n",
              "      <td>1</td>\n",
              "      <td>1</td>\n",
              "      <td>0</td>\n",
              "      <td>0</td>\n",
              "    </tr>\n",
              "    <tr>\n",
              "      <th>...</th>\n",
              "      <td>...</td>\n",
              "      <td>...</td>\n",
              "      <td>...</td>\n",
              "      <td>...</td>\n",
              "    </tr>\n",
              "    <tr>\n",
              "      <th>94</th>\n",
              "      <td>0</td>\n",
              "      <td>0</td>\n",
              "      <td>1</td>\n",
              "      <td>0</td>\n",
              "    </tr>\n",
              "    <tr>\n",
              "      <th>95</th>\n",
              "      <td>1</td>\n",
              "      <td>1</td>\n",
              "      <td>1</td>\n",
              "      <td>1</td>\n",
              "    </tr>\n",
              "    <tr>\n",
              "      <th>96</th>\n",
              "      <td>0</td>\n",
              "      <td>0</td>\n",
              "      <td>1</td>\n",
              "      <td>0</td>\n",
              "    </tr>\n",
              "    <tr>\n",
              "      <th>97</th>\n",
              "      <td>0</td>\n",
              "      <td>1</td>\n",
              "      <td>0</td>\n",
              "      <td>0</td>\n",
              "    </tr>\n",
              "    <tr>\n",
              "      <th>98</th>\n",
              "      <td>0</td>\n",
              "      <td>0</td>\n",
              "      <td>0</td>\n",
              "      <td>0</td>\n",
              "    </tr>\n",
              "  </tbody>\n",
              "</table>\n",
              "<p>99 rows × 4 columns</p>\n",
              "</div>"
            ],
            "text/plain": [
              "    principal  como_funciona  contato  comprou\n",
              "0           1              1        0        0\n",
              "1           1              1        0        0\n",
              "2           1              1        0        0\n",
              "3           1              1        0        0\n",
              "4           1              1        0        0\n",
              "..        ...            ...      ...      ...\n",
              "94          0              0        1        0\n",
              "95          1              1        1        1\n",
              "96          0              0        1        0\n",
              "97          0              1        0        0\n",
              "98          0              0        0        0\n",
              "\n",
              "[99 rows x 4 columns]"
            ]
          },
          "metadata": {
            "tags": []
          },
          "execution_count": 6
        }
      ]
    },
    {
      "cell_type": "markdown",
      "metadata": {
        "id": "-g_xBHVFsirI"
      },
      "source": [
        "Essa renomeção deve dialogar com as necessidades do seu projeto, já que talvez abreviações ou mesmo os nomes em inglês sejam mais interessantes dependendo de cada caso. Essa célula de código deve vir antes da atribuição de x e y. Além disso, essa alteração não altera a tabela original, portanto precisaremos atribuir dados.rename() para a variável dados:"
      ]
    },
    {
      "cell_type": "code",
      "metadata": {
        "id": "z7W6plaIsj9-"
      },
      "source": [
        "mapa = { \n",
        "    \"home\" : \"principal\",\n",
        "    \"how_it_works\" : \"como_funciona\",\n",
        "    \"contact\" : \"contato\",\n",
        "    \"bought\" : \"comprou\"\n",
        "}\n",
        "dados = dados.rename(columns = mapa)"
      ],
      "execution_count": 8,
      "outputs": []
    },
    {
      "cell_type": "markdown",
      "metadata": {
        "id": "Kg-NTYoIspTW"
      },
      "source": [
        "Agora se executarmos novamente o código, veremos uma mensagem de erro:\n",
        "\n",
        "KeyError: \"['home', 'how_it_works' e 'contact'] not in index\"\n",
        "\n",
        "Isso porque os termos em inglês, que correspondiam às colunas, não existem mais em nosso projeto. No momento em que carregamos o arquivo, a primeira ação a ser tomada é renomear os itens necessários para que o projeto seja executado:"
      ]
    },
    {
      "cell_type": "code",
      "metadata": {
        "colab": {
          "base_uri": "https://localhost:8080/",
          "height": 195
        },
        "id": "yWTWoO1ysrcg",
        "outputId": "5cea3c90-b4d0-4c30-cc36-450268c3d1cd"
      },
      "source": [
        "x= dados[[\"principal\",\"como_funciona\",\"contato\"]]\n",
        "y= dados[[\"comprou\"]]\n",
        "\n",
        "x.head()"
      ],
      "execution_count": 9,
      "outputs": [
        {
          "output_type": "execute_result",
          "data": {
            "text/html": [
              "<div>\n",
              "<style scoped>\n",
              "    .dataframe tbody tr th:only-of-type {\n",
              "        vertical-align: middle;\n",
              "    }\n",
              "\n",
              "    .dataframe tbody tr th {\n",
              "        vertical-align: top;\n",
              "    }\n",
              "\n",
              "    .dataframe thead th {\n",
              "        text-align: right;\n",
              "    }\n",
              "</style>\n",
              "<table border=\"1\" class=\"dataframe\">\n",
              "  <thead>\n",
              "    <tr style=\"text-align: right;\">\n",
              "      <th></th>\n",
              "      <th>principal</th>\n",
              "      <th>como_funciona</th>\n",
              "      <th>contato</th>\n",
              "    </tr>\n",
              "  </thead>\n",
              "  <tbody>\n",
              "    <tr>\n",
              "      <th>0</th>\n",
              "      <td>1</td>\n",
              "      <td>1</td>\n",
              "      <td>0</td>\n",
              "    </tr>\n",
              "    <tr>\n",
              "      <th>1</th>\n",
              "      <td>1</td>\n",
              "      <td>1</td>\n",
              "      <td>0</td>\n",
              "    </tr>\n",
              "    <tr>\n",
              "      <th>2</th>\n",
              "      <td>1</td>\n",
              "      <td>1</td>\n",
              "      <td>0</td>\n",
              "    </tr>\n",
              "    <tr>\n",
              "      <th>3</th>\n",
              "      <td>1</td>\n",
              "      <td>1</td>\n",
              "      <td>0</td>\n",
              "    </tr>\n",
              "    <tr>\n",
              "      <th>4</th>\n",
              "      <td>1</td>\n",
              "      <td>1</td>\n",
              "      <td>0</td>\n",
              "    </tr>\n",
              "  </tbody>\n",
              "</table>\n",
              "</div>"
            ],
            "text/plain": [
              "   principal  como_funciona  contato\n",
              "0          1              1        0\n",
              "1          1              1        0\n",
              "2          1              1        0\n",
              "3          1              1        0\n",
              "4          1              1        0"
            ]
          },
          "metadata": {
            "tags": []
          },
          "execution_count": 9
        }
      ]
    },
    {
      "cell_type": "markdown",
      "metadata": {
        "id": "k97ZsxDAswSz"
      },
      "source": [
        "Com x.head(), imprimiremos os primeiros cinco elementos da tabela para garantirmos que o código continua funcionando:\n",
        "\n",
        "\n",
        "principal\tcomo_funciona\tcontato\n",
        "1\t1\t0\n",
        "1\t1\t0\n",
        "1\t1\t0\n",
        "1\t1\t0\n",
        "Podemos fazer o mesmo procedimento com y.head():\n",
        "\n",
        "Name: comprou, dtype: int64\n",
        "0\n",
        "0\n",
        "0\n",
        "0\n",
        "0\n",
        "Agora que temos x e y separados, devemos nos questionar: devemos treinar os algorítimos com todos os dados? Se fizermos isso, não teremos o que testar, pois dessa forma a máquina já terá as respostas corretas previamente, sendo incapaz de prever dados fora desse conjunto. De alguma maneira, precisamos sempre separar os dados de treino e os de teste para não enviesarmos os resultados produzidos.\n",
        "\n",
        "Primeiramente, com dados.shape verificaremos quantos elementos temos nos dados e o formato deles:\n"
      ]
    },
    {
      "cell_type": "code",
      "metadata": {
        "colab": {
          "base_uri": "https://localhost:8080/"
        },
        "id": "m3QDPVX0s4pa",
        "outputId": "fe23d2a2-2cb3-4b9d-d9aa-9dcf7df5ba74"
      },
      "source": [
        "dados.shape"
      ],
      "execution_count": 10,
      "outputs": [
        {
          "output_type": "execute_result",
          "data": {
            "text/plain": [
              "(99, 4)"
            ]
          },
          "metadata": {
            "tags": []
          },
          "execution_count": 10
        }
      ]
    },
    {
      "cell_type": "markdown",
      "metadata": {
        "id": "PiJfPkUUs9Gu"
      },
      "source": [
        "Veremos que em nosso arquivo há 99 linhas e 4 colunas. Separaremos em média 25% para testar o algorítimo, e o restante (cerca de 75% dos dados) para o treinamento. Portanto, para treino_x, coletaremos os primeiros 75 elementos (treino_x = x[:75]). Podemos utilizar treino_x.shape para verificar se o número de elementos está de fato correto:"
      ]
    },
    {
      "cell_type": "code",
      "metadata": {
        "colab": {
          "base_uri": "https://localhost:8080/"
        },
        "id": "j-YUanwIs9_T",
        "outputId": "22120db7-3116-4d9d-f6a1-ecd19f28048d"
      },
      "source": [
        "treino_x = x[:75]\n",
        "treino_x.shape"
      ],
      "execution_count": 11,
      "outputs": [
        {
          "output_type": "execute_result",
          "data": {
            "text/plain": [
              "(75, 3)"
            ]
          },
          "metadata": {
            "tags": []
          },
          "execution_count": 11
        }
      ]
    },
    {
      "cell_type": "markdown",
      "metadata": {
        "id": "BC3sFUOqtAfI"
      },
      "source": [
        "Como resultado, teremos 75 elementos e 3 colunas. Da mesma forma, treino_y deve receber y[:75]. Já teste_x e teste_y deverão se receber os dados a partir do elemento 75, ou seja, x[75:] e y[75:].\n",
        "\n",
        "Para confirmarmos se as matrizes estão com a quantidade correta de elementos 24), acionaremos teste_y.shape. Por fim, registraremos essas informações imprimindo o tamanho (len()) de treino_x e treino_y utilizando print()."
      ]
    },
    {
      "cell_type": "code",
      "metadata": {
        "colab": {
          "base_uri": "https://localhost:8080/"
        },
        "id": "1v8NNRLLtE_-",
        "outputId": "40ba0694-dc9b-4a96-f780-ef01ae21f6af"
      },
      "source": [
        "treino_x = x[:75]\n",
        "treino_y = y[:75]\n",
        "teste_x = x[75:]\n",
        "teste_y = y[75:]\n",
        "teste_y.shape\n",
        "\n",
        "print(\"Treinaremos com %d elementos e testaremos com %d elementos\" % (len(treino_x), len(teste_x)))"
      ],
      "execution_count": 13,
      "outputs": [
        {
          "output_type": "stream",
          "text": [
            "Treinaremos com 75 elementos e testaremos com 24 elementos\n"
          ],
          "name": "stdout"
        }
      ]
    },
    {
      "cell_type": "markdown",
      "metadata": {
        "id": "6ksCBtHotNKo"
      },
      "source": [
        "Para treinarmos e executarmos o algorítimo usaremos a mesma motodologia do exemplo de porcos e cachorros; do sklearn.svm importaremos LinearSVC, e treinaremos o modelo com os dados treino_x e treino_y."
      ]
    },
    {
      "cell_type": "code",
      "metadata": {
        "colab": {
          "base_uri": "https://localhost:8080/"
        },
        "id": "oXSmJXXQtPrM",
        "outputId": "e9bf0f75-269e-4f8f-96bc-59e2b27bcf7d"
      },
      "source": [
        "from sklearn.svm import LinearSVC\n",
        "\n",
        "modelo = LinearSVC()\n",
        "modelo.fit(treino_x, treino_y)"
      ],
      "execution_count": 14,
      "outputs": [
        {
          "output_type": "stream",
          "text": [
            "/usr/local/lib/python3.7/dist-packages/sklearn/utils/validation.py:760: DataConversionWarning: A column-vector y was passed when a 1d array was expected. Please change the shape of y to (n_samples, ), for example using ravel().\n",
            "  y = column_or_1d(y, warn=True)\n"
          ],
          "name": "stderr"
        },
        {
          "output_type": "execute_result",
          "data": {
            "text/plain": [
              "LinearSVC(C=1.0, class_weight=None, dual=True, fit_intercept=True,\n",
              "          intercept_scaling=1, loss='squared_hinge', max_iter=1000,\n",
              "          multi_class='ovr', penalty='l2', random_state=None, tol=0.0001,\n",
              "          verbose=0)"
            ]
          },
          "metadata": {
            "tags": []
          },
          "execution_count": 14
        }
      ]
    },
    {
      "cell_type": "markdown",
      "metadata": {
        "id": "Fn6YFBG8tTRW"
      },
      "source": [
        "Feito o treino, podemos fazer as previsoes baseadas no teste_x, passando modelo.predict(). Em seguida, compararemos as previsões com teste_y. Para isso, usaremos o accuracy_score() (sem nos esquecermos de importar esse método de sklearn.metrics), passando como argumentos teste_y e previsoes.\n",
        "\n",
        "Esse método deve nos retornar a acurácia, ou seja, a taxa de acertos do modelo. Neste momento, já podemos formatar o resultado como porcentagem e imprimi-lo na tela:"
      ]
    },
    {
      "cell_type": "code",
      "metadata": {
        "colab": {
          "base_uri": "https://localhost:8080/"
        },
        "id": "lbeDEeXOtX9j",
        "outputId": "ef346613-ee95-4c6f-e576-c03db84a2e8a"
      },
      "source": [
        "from sklearn.svm import LinearSVC\n",
        "from sklearn.metrics import accuracy_score\n",
        "\n",
        "modelo = LinearSVC()\n",
        "modelo.fit(treino_x, treino_y)\n",
        "previsoes = modelo.predict(teste_x)\n",
        "\n",
        "acuracia = accuracy_score(teste_y, previsoes) * 100\n",
        "print(\"A acurácia foi %.2f%%\" % acuracia)"
      ],
      "execution_count": 15,
      "outputs": [
        {
          "output_type": "stream",
          "text": [
            "A acurácia foi 95.83%\n"
          ],
          "name": "stdout"
        },
        {
          "output_type": "stream",
          "text": [
            "/usr/local/lib/python3.7/dist-packages/sklearn/utils/validation.py:760: DataConversionWarning: A column-vector y was passed when a 1d array was expected. Please change the shape of y to (n_samples, ), for example using ravel().\n",
            "  y = column_or_1d(y, warn=True)\n"
          ],
          "name": "stderr"
        }
      ]
    },
    {
      "cell_type": "markdown",
      "metadata": {
        "id": "9A19qtBotaoC"
      },
      "source": [
        "Na tela, teremos:\n",
        "\n",
        "A acurácia foi 95.83%\n",
        "\n",
        "Por meio desse exemplo, tivemos um contato mais realista com tratamentos de algorítimos de machine learning, uma vez que importamos a fonte de dados e realizamos os tratamentos necessários, renomeando colunas e separando os dados de treino e teste até que finalmente executamos o modelo. Ainda há elementos que podem ser melhorados, e é justamente isso que estudaremos a seguir."
      ]
    },
    {
      "cell_type": "markdown",
      "metadata": {
        "id": "llMYAjmtugb7"
      },
      "source": [
        "Conforme foi dito na aula 2.1 sobre a URI, o código para visualizar os dados da URI está abaixo:"
      ]
    },
    {
      "cell_type": "code",
      "metadata": {
        "id": "VUtOl4mKulFY"
      },
      "source": [
        "import pandas as pd \n",
        "\n",
        "uri='https://gist.githubusercontent.com/guilhermesilveira/2d2efa37d66b6c84a722ea627a897ced/raw/10968b997d885cbded1c92938c7a9912ba41c615/tracking.csv'\n",
        "\n",
        "dados = pd.read_csv(uri)"
      ],
      "execution_count": null,
      "outputs": []
    },
    {
      "cell_type": "markdown",
      "metadata": {
        "id": "Gb5uCjAaup1B"
      },
      "source": [
        "Olá caros alunos(a),\n",
        "\n",
        "Caso tenha vontade de saber mais sobre dicionário e tuplas, temos alguns artigos sobre no nosso blog.\n",
        "\n",
        "[Trabalhando com dicionário](http://blog.alura.com.br/trabalhando-com-o-dicionario-no-python/)\n",
        "\n",
        "[Conhecendo as tuplas no Python](http://blog.alura.com.br/conhecendo-as-tuplas-no-python/)\n",
        "\n",
        "Double-click (or enter) to edit"
      ]
    },
    {
      "cell_type": "markdown",
      "metadata": {
        "id": "0wxzkO0qu0hg"
      },
      "source": [
        "Nas aulas anteriores, aprendemos que o testes para medir a acurácia são tão comuns que muitas das bibliotecas do Python já os realizam pra nós.\n",
        "\n",
        "Todas as vezes que trabalhamos com machine learning e analisamos dados, faremos algum tipo de separação desses dados para treino e teste, e também existem recursos disponíveis para isso nessas bibliotecas.\n",
        "\n",
        "No caso, usaremos novamente o SkLearn, que contém os elementos necessários para trabalharmos com machine learning e algorítimos similares. Ao fazermos uma pesquisa simples com os termos \"sklearn train test\",encontraremos a [documentação](https://scikit-learn.org/stable/modules/generated/sklearn.model_selection.train_test_split.html) correspondente a prática de separar dados de treino e de teste, o que é chamado de split.\n",
        "\n",
        "Na máquina virtual do Python, importaremos train_test_split do sklearn.model_selection, e passaremos como argumento as duas matrizes (arrays), que são x e y inteiros. Em seguida, declararemos o tamanho do teste (test_size) que será 0.25."
      ]
    },
    {
      "cell_type": "code",
      "metadata": {
        "colab": {
          "base_uri": "https://localhost:8080/"
        },
        "id": "mWIFhNV8vYys",
        "outputId": "0d980659-0cb7-4b8b-8fbc-ec86ae75b48e"
      },
      "source": [
        "from sklearn.model_selection import train_test_split\n",
        "\n",
        "train_test_split(x, y, test_size =0.25)"
      ],
      "execution_count": 16,
      "outputs": [
        {
          "output_type": "execute_result",
          "data": {
            "text/plain": [
              "[    principal  como_funciona  contato\n",
              " 40          0              1        0\n",
              " 84          1              0        1\n",
              " 80          0              0        1\n",
              " 16          0              0        1\n",
              " 22          0              0        1\n",
              " ..        ...            ...      ...\n",
              " 89          1              0        1\n",
              " 94          0              0        1\n",
              " 75          0              1        0\n",
              " 68          1              0        1\n",
              " 41          0              0        1\n",
              " \n",
              " [74 rows x 3 columns],     principal  como_funciona  contato\n",
              " 91          1              1        0\n",
              " 90          1              0        1\n",
              " 57          1              1        0\n",
              " 82          0              0        1\n",
              " 43          1              0        1\n",
              " 24          1              0        1\n",
              " 9           1              0        1\n",
              " 49          1              1        0\n",
              " 87          0              0        1\n",
              " 35          1              0        1\n",
              " 95          1              1        1\n",
              " 97          0              1        0\n",
              " 70          1              1        0\n",
              " 5           1              0        1\n",
              " 61          0              1        0\n",
              " 66          0              0        1\n",
              " 58          1              0        1\n",
              " 88          0              0        1\n",
              " 60          1              0        1\n",
              " 33          1              0        1\n",
              " 56          1              0        1\n",
              " 44          0              0        1\n",
              " 69          1              1        0\n",
              " 79          1              1        0\n",
              " 3           1              1        0,     comprou\n",
              " 40        0\n",
              " 84        1\n",
              " 80        0\n",
              " 16        0\n",
              " 22        0\n",
              " ..      ...\n",
              " 89        1\n",
              " 94        0\n",
              " 75        0\n",
              " 68        1\n",
              " 41        0\n",
              " \n",
              " [74 rows x 1 columns],     comprou\n",
              " 91        0\n",
              " 90        1\n",
              " 57        0\n",
              " 82        0\n",
              " 43        1\n",
              " 24        1\n",
              " 9         1\n",
              " 49        0\n",
              " 87        0\n",
              " 35        1\n",
              " 95        1\n",
              " 97        0\n",
              " 70        0\n",
              " 5         1\n",
              " 61        0\n",
              " 66        0\n",
              " 58        1\n",
              " 88        0\n",
              " 60        1\n",
              " 33        1\n",
              " 56        1\n",
              " 44        0\n",
              " 69        0\n",
              " 79        1\n",
              " 3         0]"
            ]
          },
          "metadata": {
            "tags": []
          },
          "execution_count": 16
        }
      ]
    },
    {
      "cell_type": "markdown",
      "metadata": {
        "id": "9_V6PAeTvlfX"
      },
      "source": [
        "Podemos imprimir treino_x.shape para verificarmos quantos elementos de fato temos nesse conjunto. O resultado será 74, 3. Da mesma forma, se imprimirmos teste_x.shape, teremos como retorno 25, 3."
      ]
    },
    {
      "cell_type": "code",
      "metadata": {
        "colab": {
          "base_uri": "https://localhost:8080/"
        },
        "id": "WCpxPPtfvm_Z",
        "outputId": "e6394783-4656-4be3-90eb-8f499d862898"
      },
      "source": [
        "from sklearn.model_selection import train_test_split\n",
        "\n",
        "treino_x, teste_x, treino_y, teste_y =train_test_split(x, y, test_size =0.25)\n",
        "print(treino_x.shape)\n",
        "print(teste_x.shape)"
      ],
      "execution_count": 17,
      "outputs": [
        {
          "output_type": "stream",
          "text": [
            "(74, 3)\n",
            "(25, 3)\n"
          ],
          "name": "stdout"
        }
      ]
    },
    {
      "cell_type": "markdown",
      "metadata": {
        "id": "DvzuOBO0wM_K"
      },
      "source": [
        "A soma dos dois conjuntos dá 99, que é o número de itens na nossa tabela original.\n",
        "\n",
        "Com isso conseguimos rapidamente separar o treino do teste, sem precisarmos de outras linhas de código adicionais. Agora, incluiremos uma mensagem que acompanha o resultado, para que sua apresentação fique mais elegante, além do código do algorítimo sendo executado e o modelo sendo treinado com a impressão da acurácia."
      ]
    },
    {
      "cell_type": "code",
      "metadata": {
        "colab": {
          "base_uri": "https://localhost:8080/"
        },
        "id": "jyNHUyqvwQho",
        "outputId": "6694ccd8-5a6b-4b46-d08e-5f6bc9ed50ed"
      },
      "source": [
        "from sklearn.model_selection import train_test_split\n",
        "from sklearn.svm import LinearSVC\n",
        "from sklearn.metrics import accuracy_score\n",
        "\n",
        "treino_x, teste_x, treino_y, teste_y = train_test_split(x, y, test_size = 0.25)\n",
        "print(\"Treinaremos com %d elementos e testaremos com %d elementos\" % (len(treino_x), len(teste_x)))\n",
        "\n",
        "modelo = LinearSVC()\n",
        "modelo.fit(treino_x, treino_y)\n",
        "previsoes = modelo.predict(teste_x)\n",
        "\n",
        "acuracia = accuracy_score(teste_y, previsoes) * 100\n",
        "print(\"A acurácia foi %.2f%%\" % acuracia)"
      ],
      "execution_count": 18,
      "outputs": [
        {
          "output_type": "stream",
          "text": [
            "Treinaremos com 74 elementos e testaremos com 25 elementos\n",
            "A acurácia foi 96.00%\n"
          ],
          "name": "stdout"
        },
        {
          "output_type": "stream",
          "text": [
            "/usr/local/lib/python3.7/dist-packages/sklearn/utils/validation.py:760: DataConversionWarning: A column-vector y was passed when a 1d array was expected. Please change the shape of y to (n_samples, ), for example using ravel().\n",
            "  y = column_or_1d(y, warn=True)\n"
          ],
          "name": "stderr"
        }
      ]
    },
    {
      "cell_type": "markdown",
      "metadata": {
        "id": "3171cigUwa8i"
      },
      "source": [
        "Como retorno da execção desse código, teremos:\n",
        "\n",
        "Treinaremos com 74 elementos e testaremos com 25 elementos\n",
        "\n",
        "A acurácia foi 100.00%\n",
        "\n",
        "Mas esse resultado é um pouco estranho, não? Após uma verificação, perceberemos que não parece existir nada de errado no código. Porém, o executarmos novamente, teremos resultados variáveis, como 96%, 92% e até 100% novamente.\n",
        "\n",
        "Isso ocorre porque o algorítimo train_test_split, por padrão, realiza aleatoriamente a separação de dados de treino e teste. Desse modo, todas as vezes que ele é executado podemos ter um resultado diferente.\n",
        "\n",
        "Então como podemos fazer com que o nosso experimento seja replicável?\n",
        "\n",
        "Precisaremos definir um número inicial para os algorítimos de geração de números aleatórios. Esse número inicial é chamado SEED, e nesse caso usaremos o número 20. Em seguida, definiremos para o train_test_split o uso do random_state = SEED."
      ]
    },
    {
      "cell_type": "code",
      "metadata": {
        "colab": {
          "base_uri": "https://localhost:8080/"
        },
        "id": "y9nJG0b7wdEj",
        "outputId": "a6f30495-4895-4d75-bbfa-8f879c9ce530"
      },
      "source": [
        "from sklearn.model_selection import train_test_split\n",
        "from sklearn.svm import LinearSVC\n",
        "from sklearn.metrics import accuracy_score\n",
        "\n",
        "SEED = 20\n",
        "\n",
        "treino_x, teste_x, treino_y, teste_y = train_test_split(x, y, random_state = SEED, test_size = 0.25)\n",
        "print(\"Treinaremos com %d elementos e testaremos com %d elementos\" % (len(treino_x), len(teste_x)))\n",
        "\n",
        "modelo = LinearSVC()\n",
        "modelo.fit(treino_x, treino_y)\n",
        "previsoes = modelo.predict(teste_x)\n",
        "\n",
        "acuracia = accuracy_score(teste_y, previsoes) * 100\n",
        "print(\"A acurácia foi %.2f%%\" % acuracia)"
      ],
      "execution_count": 19,
      "outputs": [
        {
          "output_type": "stream",
          "text": [
            "Treinaremos com 74 elementos e testaremos com 25 elementos\n",
            "A acurácia foi 96.00%\n"
          ],
          "name": "stdout"
        },
        {
          "output_type": "stream",
          "text": [
            "/usr/local/lib/python3.7/dist-packages/sklearn/utils/validation.py:760: DataConversionWarning: A column-vector y was passed when a 1d array was expected. Please change the shape of y to (n_samples, ), for example using ravel().\n",
            "  y = column_or_1d(y, warn=True)\n"
          ],
          "name": "stderr"
        }
      ]
    },
    {
      "cell_type": "markdown",
      "metadata": {
        "id": "zS7qn2bXwkFI"
      },
      "source": [
        "Esse SEED será utilizado para definir a ordem dos números aleatórios (que deixam de ser tão aleatórios assim). Com isso, ao rodarmos novamente o código, teremos sempre o mesmo resultado:\n",
        "\n",
        "Treinaremos com 74 elementos e testaremos com 25 elementos\n",
        "\n",
        "A acurácia foi 96%\n",
        "\n",
        "Esse é um processo muito importante, afinal faz com que o nosso teste seja replicável.\n",
        "\n",
        "Agora vamos analisar um último detalhe acerca de separação, e que envolve o treino_y. Neste conjunto, temos diversos 0 e 1. M"
      ]
    },
    {
      "cell_type": "code",
      "metadata": {
        "colab": {
          "base_uri": "https://localhost:8080/"
        },
        "id": "c-oPV8UtwmBb",
        "outputId": "f2282162-d912-482a-9e9e-b0ba904328d4"
      },
      "source": [
        "treino_y.value_counts()"
      ],
      "execution_count": 20,
      "outputs": [
        {
          "output_type": "execute_result",
          "data": {
            "text/plain": [
              "comprou\n",
              "0          47\n",
              "1          27\n",
              "dtype: int64"
            ]
          },
          "metadata": {
            "tags": []
          },
          "execution_count": 20
        }
      ]
    },
    {
      "cell_type": "markdown",
      "metadata": {
        "id": "UCDzoCuhwp-z"
      },
      "source": [
        "Como retorno, teremos:\n",
        "\n",
        "0 47\n",
        "\n",
        "1 27\n",
        "\n",
        "Name: comprou, dtype: int64\n",
        "\n",
        "Ou seja, temos 47 pessoas que não compraram um produto no site, representadas por 0, e 27 que compraram, representadas pelo número 1.\n",
        "\n",
        "Já se formos analisar os dados de teste (teste_y.value_counts()), teremos o seguinte resultado:\n",
        "\n",
        "0 19\n",
        "\n",
        "1 6\n",
        "\n",
        "Name: comprou, dtype: int64\n",
        "\n",
        "Se dividirmos 47 por 27 teremos 1,74. Portanto, para cada pessoa que comprou o produto, temos duas que não compraram. Já no teste temos 19 dividido por 6, que totaliza 3,1 - três pessoas que não compraram para cada uma que comprou.\n",
        "\n",
        "Isso significa que a separação entre os dados de treino e teste não está proporcional de acordo com as nossas categorias, o que é bastante arriscado. Por exemplo, se treinarmos apenas com pessoas que não compraram o produto, o algorítimo só saberá que pessoas não compram e esse será o seu palpite padrão pois ele nunca aprendeu que usuários de fato compram o produto.\n",
        "\n",
        "Portanto, é importante que a proporção dos nossos dados seja proporcional. Para isso,, inseriremos mais um argumento na separação de dados (train_test_split): o stratify = y, que irá estratificar os dados proporcionalmente de acordo com y."
      ]
    },
    {
      "cell_type": "code",
      "metadata": {
        "colab": {
          "base_uri": "https://localhost:8080/"
        },
        "id": "jnvINRTVwvcN",
        "outputId": "bd1b7bfa-47c9-40f4-d89b-8fd12d9f212d"
      },
      "source": [
        "from sklearn.model_selection import train_test_split\n",
        "from sklearn.svm import LinearSVC\n",
        "from sklearn.metrics import accuracy_score\n",
        "\n",
        "SEED = 20\n",
        "\n",
        "treino_x, teste_x, treino_y, teste_y = train_test_split(x, y,\n",
        "                                                         random_state = SEED, test_size = 0.25,\n",
        "                                                         stratify = y)\n",
        "print(\"Treinaremos com %d elementos e testaremos com %d elementos\" % (len(treino_x), len(teste_x)))\n",
        "\n",
        "modelo = LinearSVC()\n",
        "modelo.fit(treino_x, treino_y)\n",
        "previsoes = modelo.predict(teste_x)\n",
        "\n",
        "acuracia = accuracy_score(teste_y, previsoes) * 100\n",
        "print(\"A acurácia foi %.2f%%\" % acuracia)"
      ],
      "execution_count": 21,
      "outputs": [
        {
          "output_type": "stream",
          "text": [
            "Treinaremos com 74 elementos e testaremos com 25 elementos\n",
            "A acurácia foi 96.00%\n"
          ],
          "name": "stdout"
        },
        {
          "output_type": "stream",
          "text": [
            "/usr/local/lib/python3.7/dist-packages/sklearn/utils/validation.py:760: DataConversionWarning: A column-vector y was passed when a 1d array was expected. Please change the shape of y to (n_samples, ), for example using ravel().\n",
            "  y = column_or_1d(y, warn=True)\n"
          ],
          "name": "stderr"
        }
      ]
    },
    {
      "cell_type": "markdown",
      "metadata": {
        "id": "MLracCBqxDb-"
      },
      "source": [
        "Com isso, nossa acurácia continuará a mesma:\n",
        "\n",
        "Treinaremos com 74 elementos e testaremos com 25 elementos\n",
        "\n",
        "A acurácia foi 96.00%\n",
        "\n",
        "Porém, se imprimirmos a contagem de valores de treino_x e teste_y, teremos a mesma proporção de 2-1."
      ]
    },
    {
      "cell_type": "code",
      "metadata": {
        "colab": {
          "base_uri": "https://localhost:8080/"
        },
        "id": "7IN5fzcwxInq",
        "outputId": "6658ce09-73a2-4eda-cb16-ea23d1ea6d70"
      },
      "source": [
        "treino_y.value_counts()"
      ],
      "execution_count": 22,
      "outputs": [
        {
          "output_type": "execute_result",
          "data": {
            "text/plain": [
              "comprou\n",
              "0          49\n",
              "1          25\n",
              "dtype: int64"
            ]
          },
          "metadata": {
            "tags": []
          },
          "execution_count": 22
        }
      ]
    },
    {
      "cell_type": "code",
      "metadata": {
        "colab": {
          "base_uri": "https://localhost:8080/"
        },
        "id": "2X3pf7YJxPN5",
        "outputId": "69310205-41ad-4a5e-99c1-20abf57033d3"
      },
      "source": [
        "teste_y.value_counts()"
      ],
      "execution_count": 23,
      "outputs": [
        {
          "output_type": "execute_result",
          "data": {
            "text/plain": [
              "comprou\n",
              "0          17\n",
              "1           8\n",
              "dtype: int64"
            ]
          },
          "metadata": {
            "tags": []
          },
          "execution_count": 23
        }
      ]
    },
    {
      "cell_type": "markdown",
      "metadata": {
        "id": "w6Qy41ZcxY45"
      },
      "source": [
        "Essa é uma técnica que utilizamos para manter a proporção na divisão dos dados. Contudo, se uma das classes aparecesse de forma muito pontual, não seria interessante esse recurso. Existem diversas maneiras de separarmos treino e teste, e essa é apenas uma delas - mas que foi suficiente para resolvermos nosso problema atual. A partir de agora resolveremos questões mais complexas."
      ]
    },
    {
      "cell_type": "markdown",
      "metadata": {
        "id": "tXhkaH2_xtQg"
      },
      "source": [
        "Nessa aula aprendemos a:\n",
        "\n",
        "Abrir arquivo CSV;\n",
        "Imprimir as primeiras linhas com a função head;\n",
        "Renomear as colunas;\n",
        "Utilizar a função shape para ver a quantidade de elementos;\n",
        "Separar dados para treino e teste;\n",
        "Definir a ordem para os números aleatórios;\n",
        "Utilizar a função value_counts."
      ]
    }
  ]
}
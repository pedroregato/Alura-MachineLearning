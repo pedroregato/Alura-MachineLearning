{
  "nbformat": 4,
  "nbformat_minor": 0,
  "metadata": {
    "colab": {
      "name": "Aula01.ipynb",
      "provenance": [],
      "authorship_tag": "ABX9TyN5e72V2HtmrhsMdCNh19vO",
      "include_colab_link": true
    },
    "kernelspec": {
      "name": "python3",
      "display_name": "Python 3"
    },
    "language_info": {
      "name": "python"
    }
  },
  "cells": [
    {
      "cell_type": "markdown",
      "metadata": {
        "id": "view-in-github",
        "colab_type": "text"
      },
      "source": [
        "<a href=\"https://colab.research.google.com/github/pedroregato/Alura-MachineLearning/blob/main/Aula01.ipynb\" target=\"_parent\"><img src=\"https://colab.research.google.com/assets/colab-badge.svg\" alt=\"Open In Colab\"/></a>"
      ]
    },
    {
      "cell_type": "markdown",
      "metadata": {
        "id": "OQkbtNUDYMQp"
      },
      "source": [
        "Olá, tudo bem?\n",
        "\n",
        "Neste primeiro curso de Machine Learning e Classificação, analisaremos quatro projetos e conjuntos de dados diferentes, sobre os quais tentaremos classificar informações em duas categorias distintas — isto é, usaremos algorítimos de machine learning para classificação, estimadores capazes de analisar a imagem de um animal e conseguir afirmar que se trata de um porco ou cachorro. Trata-se de um exemplo simples para que possamos introduzir o conceito de classificação e seu processo de estudo, treino e teste.\n",
        "\n",
        "Um dos projetos é analisar se usuários que acessaram determinadas páginas de um site irão ou não comprar um produto específico. Então, estamos classificando entre duas opções de classes: \"comprar ou não comprar\", \"sim\" e \"não\", ou numericamente falando, \"0\" ou \"1\".\n",
        "\n",
        "Outro projeto envolve duas features: imagine que queremos criar um blog ou site, mas não temos os conhecimentos necessários para fazer isso de forma autônoma. Então solicitamos que um aplicativo ou serviço qualquer nossos projetos e fazermos estimativas, por exemplo: o site demorará 42 horas para ser feito e queremos pagar 275,00 reais.\n",
        "\n",
        "unfished\texpected_hours\tprice\n",
        "1\t26\t192\n",
        "1\t88\t9015\n",
        "1\t89\t2577\n",
        "1\t42\t275\n",
        "1\t39\t170\n",
        "Os dados que criamos para analisar o projeto representam o número de horas esperadas e o preço que um cliente está disposto a pagar por determinada tarefa, e queremos saber se algum desenvolvedor vai ou não realizar o trabalho.\n",
        "\n",
        "Temos novamente um problema de classificação, mas dessa vez \"horas esperadas\" e \"preço\" são duas dimensões (features) que precisamos trabalhar. Conseguiremos visualizar essa informação de diversas maneiras diferentes, inclusive, entendendo como o algorítimo realiza as decisões dos projetos que serão ou não executados.\n",
        "\n",
        "Por fim, teremos um projeto cujo foco da análise é a venda de alguns carros; a ideia é descobrirmos se determinados carros serão vendidos ou não com base no preço de cada um. Dessa forma, quando um cliente decide anunciar seu carro em site, podemos sugerir uma faixa de preço que facilitará o processo de venda.\n",
        "\n",
        "Bolaremos maneiras de ilustrar o processo de classificação e então executá-lo cada vez de uma maneira diferente, com uma complexidade diferente.\n",
        "\n",
        "Vamos começar?"
      ]
    },
    {
      "cell_type": "markdown",
      "metadata": {
        "id": "jLIuaYYlYUGK"
      },
      "source": [
        "Preparando o ambiente\n",
        "PRÓXIMA ATIVIDADE\n",
        "\n",
        "Olá\n",
        "Meu nome é Guilherme Silveira e neste curso vamos classificar e explorar alguns dados de forma descritiva utilizando o pandas e visual utilizando o Seaborn.\n",
        "\n",
        "Ambiente de análise\n",
        "Neste curso, usaremos uma ferramenta do Google chamada\n",
        "\n",
        "Colaboratory , que é um ambiente de notebook Jupyter que não requer configuração para usar.\n",
        "\n",
        "Colaboratory\n",
        "Para usar este ambiente, é necessário ter uma conta gmail, pois todo notebook ficará armazenado no Drive. Caso não tenha um gmail, faça o seu clicando neste link.\n",
        "\n",
        "Você pode acessar o Colaboratory por esse link.\n",
        "\n",
        "Informação importante sobre o Colaboratory\n",
        "\n",
        "O código do seu notebook é executado em uma máquina virtual dedicada à sua conta. As máquinas virtuais são recicladas por um determinado tempo ocioso ou caso a janela seja finalizada\n",
        "\n",
        "Para restaurar seu notebook, talvez seja necessário refazer o upload do seu arquivo csv e executar as opções Runtime e Restart and run all...\n",
        "\n",
        "Posso usar outro ambiente Jupyter notebook para realizar este curso?\n",
        "Sim, sem problemas. Caso queira utilizar o Anaconda visto no curso de pandas por exemplo você também pode.\n",
        "\n",
        "Vamos começar?"
      ]
    },
    {
      "cell_type": "markdown",
      "metadata": {
        "id": "Xp5mYwcuYaWa"
      },
      "source": [
        "Neste primeiro projeto, usaremos um exemplo ilustrativo para entendermos como funciona o machine learning. A ideia é diferenciar dois animais com características diferentes: um porco e um cachorro.\n",
        "\n",
        "Se pensarmos nestas duas classes, podemos atribuir um número para cada uma delas como 1 e 0. Esse modelo binário pode ser utilizado das mais diferentes formas: alguém que compra um produto ou não, uma pessoa que abandona ou não a escola e assim por diante.\n",
        "\n",
        "Para compreendermos melhor essa ideia, analisaremos alguns exemplos. Temos uma tabela com diversas imagens de porcos e cachorros, e queremos classificá-las. Para cachorros, usaremos o número 0, para porcos 1.\n",
        "\n",
        "Como podemos fazer a máquina aprender o que é um porco e diferenciá-lo de um cachorro?\n",
        "\n",
        "Faremos uma analogia com o nosso próprio desenvolvimento enquanto humanos: normalmente, somos introduzidos ao animal diversas vezes e aprendemos por repetição. Associamos um som ao animal, algo como \"oinc-oinc\" para porcos, e destacamos suas características principais. Com o cachorro, não é diferente. Precisamos que alguém indique esse animal e nos ensine a classificação dele, enquanto esse aprendizado é supervisionado. Em suma, temos um \"professor\" que já sabe o que é um porco ou chachorro.\n",
        "\n",
        "Um processo parecido será feito com a máquina: passaremos um conjunto de dados e supervisionaremos seu aprendizado para que os animais sejam classificados de forma correta. Em seguida, exibiremos um animal novo e veremos como o algorítimo encaixa esse animal nas categorias disponíveis por meio de estimadores (estimators, em inglês).\n",
        "\n",
        "Mas como classificamos um animal entre cachorro ou porco? A ideia é usarmos características do animal - nesse caso, três. É importante destacar que quanto mais dados temos na fase de treino e aprendizado, há uma tendência de melhora do resultado dos estimadores, embora essa não seja uma garantia.\n",
        "\n",
        "Vamos analisar o primeiro exemplar de porco:\n",
        "\n",
        "1.há um pelo razoavelmente longo 2.as pernas são curtas 3.ele não emite o som \"au-au\".\n",
        "\n",
        "porco de pelagem longa e amarronzada com o focinho sobre a grama\n",
        "\n",
        "Cada animal será descrito por meio dessas três características: se o pelo é longo ou curto; se as pernas são longas ou curtas; e se o animal emite o som \"au-au\" ou não.\n",
        "\n",
        "Temos três features para nos auxiliar com esse processo de catalogação e treinar o estimador de forma que ele entenda padrões. No caso deste porco, ele possui pelo longo, então marcaremos na coluna \"Pelo longo?\" o número 1 (\"sim\"). Da mesma forma, marcaremos a mesma numeração na coluna \"Perna curta?\", e 0 (não\") na coluna \"Au Au?\".\n",
        "\n",
        "Na tabela abaixo, temos 6 exemplos de animais com suas features devidamente catalogadas. Repare que temos, por exemplo, tanto porcos quanto cachorros de pelo longo, além de um porco que faz \"Au au\".\n",
        "\n",
        "Animal\tPelo Longo?\tPerna curta?\tAu Au?\t0 cão or 1 porco?\n",
        "pig A\t1\t1\t0\t1\n",
        "pig B\t0\t1\t1\t1\n",
        "pig C\t0\t1\t0\t1\n",
        "dog A\t0\t1\t1\t0\n",
        "dog B\t1\t1\t1\t0\n",
        "dog C\t0\t0\t1\t0\n",
        "Temos três características (features) com as quais treinaremos o nosso estimador capaz de entender padrões. As colunas de features, que são três, costumamos chamar de X*, e a coluna que classificao animal é chamada de *Y. Neste caso, cada linha da coluna representa um animal, mas poderíamos estar classificando e-mails, clientes, produtos, etc.\n",
        "\n",
        "A seguir, temoso desenho de um animal que não tem pelo longo, possui pernas curtas e não faz \"au-au\", (0,1,0) - ou seja, trata-se, neste caso, de um porco.\n",
        "\n",
        "representação gráfica de um porco, sem pelos e de cor rosa\n",
        "\n",
        "O importante é treinarmos o estimador e o tornarmos eficiente. Em nosso caso, usaremos uma medida para saber o quanto ele acerta, isto é a acurácia (accuracy em inglês), afinal há uma taxa de erro e não é sempre que os estimadores classificarão corretamente um animal. Lembrando que essa metodologia também poderia ser aplicada a outros tipos de classificação.\n",
        "\n",
        "A previsão que faremos usa algoritmos de classificação. Esses algorítimos podem ser utilizados para classificar itens ou prever comportamentos de usuário no momento de comprar um produto, por exemplo. Para isso teremos:\n",
        "\n",
        "1.Features 2.Itens 3.Treino do estimador 4.Testes 5.Taxa de acerto 6.Otimização 7.Previsão\n",
        "\n",
        "Faremos tudo isso utilizando Python e a biblioteca scikit-learn, que possui os algorítimos de machine learning. Além disso, usaremos também o Numpy, e Graphviz e Seaborn para visualização dos nossos dados.\n",
        "\n",
        "Vamos começar o projeto?"
      ]
    },
    {
      "cell_type": "markdown",
      "metadata": {
        "id": "bg_KMt8nYkzG"
      },
      "source": [
        "Neste primeiro projeto, trabalharemos com o exemplo da classificação de animais entre porcos e cachorros. Utilizando a linguagem Python, criaremos uma variável para cada animal, abrigando um conjunto (array) de valores, isto é, as features. Teremos três características: pelo curto ou longo, se as pernas são curtas ou longas, e se o animal emite ou não o som \"au-au\". Para cada uma das features, 1= sim e 0= não.\n",
        "\n",
        "O animal porco1 possui pelo curto, perna curta, e não emite o som \"au-au\", então teremos valores [0, 1, 0]. Já porco2 possui pelo curto, perna curta, mas emite o som \"au-au\", logo os valores serão [0,1,1]. Por fim teremos porco3 com o conjunto de valores [1, 1, 0]"
      ]
    },
    {
      "cell_type": "code",
      "metadata": {
        "id": "ceDM9lK7Yo0V"
      },
      "source": [
        "# features (1 sim, 0 não)\n",
        "# pelo longo? \n",
        "# perna curta?\n",
        "# faz auau?\n",
        "porco1 = [0, 1, 0]\n",
        "porco2 = [0, 1, 1]\n",
        "porco3 = [1, 1, 0]"
      ],
      "execution_count": 1,
      "outputs": []
    },
    {
      "cell_type": "markdown",
      "metadata": {
        "id": "RavfN-UkY8Uq"
      },
      "source": [
        "Aplicaremos a mesma metodologia para cachorros. Temos cachorro1 com um conjunto de valores [0, 1, 1], cachorro2 com [1, 0, 1] e cachorro3 possui [1, 1, 1]."
      ]
    },
    {
      "cell_type": "code",
      "metadata": {
        "id": "OP90Zg1YY_Q8"
      },
      "source": [
        "# features (1 sim, 0 não)\n",
        "# pelo longo? \n",
        "# perna curta?\n",
        "# faz auau?\n",
        "porco1 = [0, 1, 0]\n",
        "porco2 = [0, 1, 1]\n",
        "porco3 = [1, 1, 0]\n",
        "\n",
        "cachorro1 = [0, 1, 1]\n",
        "cachorro2 = [1, 0, 1]\n",
        "cachorro3 = [1, 1, 1]"
      ],
      "execution_count": 2,
      "outputs": []
    },
    {
      "cell_type": "markdown",
      "metadata": {
        "id": "8RanptqpZE_1"
      },
      "source": [
        "Podemos executar esse código pressionando o botão \"Play\" na tela ou \"Shift + Enter\", mas nada será impresso, a não ser que adicionemos, por exemplo, print(porco1) e ai teremos no console o valor [0, 1, 0]. Contudo não é do nosso interesse realizar esse processo no momento.\n",
        "\n",
        "Temos duas tabelas que comportam porcos e cachorros, estes serão os nossos dados. Sabemos qual classe pertence da um desses dados, isto é, temos a classe \"porco\", que atribuiremos o valor 1, e a classe \"cachorro\", com o valor 0."
      ]
    },
    {
      "cell_type": "code",
      "metadata": {
        "id": "U8kwaYwqZGLP"
      },
      "source": [
        "# features (1 sim, 0 não)\n",
        "# pelo longo? \n",
        "# perna curta?\n",
        "# faz auau?\n",
        "porco1 = [0, 1, 0]\n",
        "porco2 = [0, 1, 1]\n",
        "porco3 = [1, 1, 0]\n",
        "\n",
        "cachorro1 = [0, 1, 1]\n",
        "cachorro2 = [1, 0, 1]\n",
        "cachorro3 = [1, 1, 1]\n",
        "\n",
        "# 1 => porco, 0 => cachorro\n",
        "dados = [porco1, porco2, porco3, cachorro1, cachorro2, cachorro3]\n",
        "classes = [1,1,1,0,0,0]"
      ],
      "execution_count": 3,
      "outputs": []
    },
    {
      "cell_type": "markdown",
      "metadata": {
        "id": "_IV0jGhcZKBE"
      },
      "source": [
        "Queremos criar um mecanismo que consiga estimar a classe desse tipo de dado. Para isso, usaremos algorítimos de machine learning, data analysis e estatística que estão armazenados nas diversas bibliotecas do Python. A que usaremos se chama Scikit Learn.\n",
        "\n",
        "Do módulo sklearn.svm, importaremos um estimador chamado LinearSVC. Posteriomente, entraremos em mais detalhes sobre alguns estimadores existentes e o que cada um é capaz de realizar. Por enquanto, usaremos esse estimador básico."
      ]
    },
    {
      "cell_type": "code",
      "metadata": {
        "id": "7Z08sZlYZOm-"
      },
      "source": [
        "from sklearn.svm import LinearSVC"
      ],
      "execution_count": 4,
      "outputs": []
    },
    {
      "cell_type": "markdown",
      "metadata": {
        "id": "OONFW5LEZTQy"
      },
      "source": [
        "O LinearSVC é uma classe que possibilita a criação de um modelo. Portanto, instanciaremos esse estimador (recebendo o nome model), e solicitaremos que ele analise a aprenda com os dados que disponibilizamos. Assim como um ser humano aprende sobre a classificação dos objetos no mundo de forma supervisionada, o modelo tentará adaptar sua lógica de pensamento com base nos dados. O método utilizado para esta ação chama-se fit(), que receberá como parâmetro dados, mas como estamos realizando um aprendizado supervisionado, devemos também declarar quais são as classes."
      ]
    },
    {
      "cell_type": "code",
      "metadata": {
        "colab": {
          "base_uri": "https://localhost:8080/"
        },
        "id": "D3dbpd6pZVS0",
        "outputId": "469adf44-720e-4ea8-f454-7bf5ec7062cc"
      },
      "source": [
        "\n",
        "from sklearn.svm import LinearSVC\n",
        "\n",
        "model = LinearSVC()\n",
        "model.fit(dados, classes)"
      ],
      "execution_count": 5,
      "outputs": [
        {
          "output_type": "execute_result",
          "data": {
            "text/plain": [
              "LinearSVC(C=1.0, class_weight=None, dual=True, fit_intercept=True,\n",
              "          intercept_scaling=1, loss='squared_hinge', max_iter=1000,\n",
              "          multi_class='ovr', penalty='l2', random_state=None, tol=0.0001,\n",
              "          verbose=0)"
            ]
          },
          "metadata": {
            "tags": []
          },
          "execution_count": 5
        }
      ]
    },
    {
      "cell_type": "markdown",
      "metadata": {
        "id": "ybjj4IbXZYWJ"
      },
      "source": [
        "Ao executarmos nosso código, teremos o resultado do modelo:"
      ]
    },
    {
      "cell_type": "code",
      "metadata": {
        "colab": {
          "base_uri": "https://localhost:8080/"
        },
        "id": "jFvmAyOXZcDg",
        "outputId": "fd1082f6-4eda-4a04-aedc-3b801c49fdeb"
      },
      "source": [
        "LinearSVC(C=1.0, class_weight=None, dual=True, fit_intercept=True,\n",
        "     intercept_scaling=1, loss='squared_hinge', max_iter=1000,\n",
        "     multi_class='ovr', penalty='l2', random_state=None, tol=0.0001,\n",
        "     verbose=0)"
      ],
      "execution_count": 6,
      "outputs": [
        {
          "output_type": "execute_result",
          "data": {
            "text/plain": [
              "LinearSVC(C=1.0, class_weight=None, dual=True, fit_intercept=True,\n",
              "          intercept_scaling=1, loss='squared_hinge', max_iter=1000,\n",
              "          multi_class='ovr', penalty='l2', random_state=None, tol=0.0001,\n",
              "          verbose=0)"
            ]
          },
          "metadata": {
            "tags": []
          },
          "execution_count": 6
        }
      ]
    },
    {
      "cell_type": "markdown",
      "metadata": {
        "id": "kxbfSyJBZgKD"
      },
      "source": [
        "Agora dicionaremos um animal_misterioso, isto é, um ainda não identificado, com o valor [1,1,1] (com pelo logo, patas longas e emite o som \"au-au\"). A ideia é descobrir qual é a opinião do nosso modelo a respetio da categorização deste animal. Para tanto, usaremos o método predict() que receberá animal_misterioso."
      ]
    },
    {
      "cell_type": "code",
      "metadata": {
        "colab": {
          "base_uri": "https://localhost:8080/",
          "height": 370
        },
        "id": "bxbK9nQJZhk7",
        "outputId": "79dbf85f-4f9e-4203-e5a2-6431a57d0812"
      },
      "source": [
        "animal_misterioso = [1,1,1]\n",
        "model.predict(animal_misterioso)"
      ],
      "execution_count": 7,
      "outputs": [
        {
          "output_type": "error",
          "ename": "ValueError",
          "evalue": "ignored",
          "traceback": [
            "\u001b[0;31m---------------------------------------------------------------------------\u001b[0m",
            "\u001b[0;31mValueError\u001b[0m                                Traceback (most recent call last)",
            "\u001b[0;32m<ipython-input-7-02d17bf01cc0>\u001b[0m in \u001b[0;36m<module>\u001b[0;34m()\u001b[0m\n\u001b[1;32m      1\u001b[0m \u001b[0manimal_misterioso\u001b[0m \u001b[0;34m=\u001b[0m \u001b[0;34m[\u001b[0m\u001b[0;36m1\u001b[0m\u001b[0;34m,\u001b[0m\u001b[0;36m1\u001b[0m\u001b[0;34m,\u001b[0m\u001b[0;36m1\u001b[0m\u001b[0;34m]\u001b[0m\u001b[0;34m\u001b[0m\u001b[0;34m\u001b[0m\u001b[0m\n\u001b[0;32m----> 2\u001b[0;31m \u001b[0mmodel\u001b[0m\u001b[0;34m.\u001b[0m\u001b[0mpredict\u001b[0m\u001b[0;34m(\u001b[0m\u001b[0manimal_misterioso\u001b[0m\u001b[0;34m)\u001b[0m\u001b[0;34m\u001b[0m\u001b[0;34m\u001b[0m\u001b[0m\n\u001b[0m",
            "\u001b[0;32m/usr/local/lib/python3.7/dist-packages/sklearn/linear_model/_base.py\u001b[0m in \u001b[0;36mpredict\u001b[0;34m(self, X)\u001b[0m\n\u001b[1;32m    291\u001b[0m             \u001b[0mPredicted\u001b[0m \u001b[0;32mclass\u001b[0m \u001b[0mlabel\u001b[0m \u001b[0mper\u001b[0m \u001b[0msample\u001b[0m\u001b[0;34m.\u001b[0m\u001b[0;34m\u001b[0m\u001b[0;34m\u001b[0m\u001b[0m\n\u001b[1;32m    292\u001b[0m         \"\"\"\n\u001b[0;32m--> 293\u001b[0;31m         \u001b[0mscores\u001b[0m \u001b[0;34m=\u001b[0m \u001b[0mself\u001b[0m\u001b[0;34m.\u001b[0m\u001b[0mdecision_function\u001b[0m\u001b[0;34m(\u001b[0m\u001b[0mX\u001b[0m\u001b[0;34m)\u001b[0m\u001b[0;34m\u001b[0m\u001b[0;34m\u001b[0m\u001b[0m\n\u001b[0m\u001b[1;32m    294\u001b[0m         \u001b[0;32mif\u001b[0m \u001b[0mlen\u001b[0m\u001b[0;34m(\u001b[0m\u001b[0mscores\u001b[0m\u001b[0;34m.\u001b[0m\u001b[0mshape\u001b[0m\u001b[0;34m)\u001b[0m \u001b[0;34m==\u001b[0m \u001b[0;36m1\u001b[0m\u001b[0;34m:\u001b[0m\u001b[0;34m\u001b[0m\u001b[0;34m\u001b[0m\u001b[0m\n\u001b[1;32m    295\u001b[0m             \u001b[0mindices\u001b[0m \u001b[0;34m=\u001b[0m \u001b[0;34m(\u001b[0m\u001b[0mscores\u001b[0m \u001b[0;34m>\u001b[0m \u001b[0;36m0\u001b[0m\u001b[0;34m)\u001b[0m\u001b[0;34m.\u001b[0m\u001b[0mastype\u001b[0m\u001b[0;34m(\u001b[0m\u001b[0mnp\u001b[0m\u001b[0;34m.\u001b[0m\u001b[0mint\u001b[0m\u001b[0;34m)\u001b[0m\u001b[0;34m\u001b[0m\u001b[0;34m\u001b[0m\u001b[0m\n",
            "\u001b[0;32m/usr/local/lib/python3.7/dist-packages/sklearn/linear_model/_base.py\u001b[0m in \u001b[0;36mdecision_function\u001b[0;34m(self, X)\u001b[0m\n\u001b[1;32m    266\u001b[0m         \u001b[0mcheck_is_fitted\u001b[0m\u001b[0;34m(\u001b[0m\u001b[0mself\u001b[0m\u001b[0;34m)\u001b[0m\u001b[0;34m\u001b[0m\u001b[0;34m\u001b[0m\u001b[0m\n\u001b[1;32m    267\u001b[0m \u001b[0;34m\u001b[0m\u001b[0m\n\u001b[0;32m--> 268\u001b[0;31m         \u001b[0mX\u001b[0m \u001b[0;34m=\u001b[0m \u001b[0mcheck_array\u001b[0m\u001b[0;34m(\u001b[0m\u001b[0mX\u001b[0m\u001b[0;34m,\u001b[0m \u001b[0maccept_sparse\u001b[0m\u001b[0;34m=\u001b[0m\u001b[0;34m'csr'\u001b[0m\u001b[0;34m)\u001b[0m\u001b[0;34m\u001b[0m\u001b[0;34m\u001b[0m\u001b[0m\n\u001b[0m\u001b[1;32m    269\u001b[0m \u001b[0;34m\u001b[0m\u001b[0m\n\u001b[1;32m    270\u001b[0m         \u001b[0mn_features\u001b[0m \u001b[0;34m=\u001b[0m \u001b[0mself\u001b[0m\u001b[0;34m.\u001b[0m\u001b[0mcoef_\u001b[0m\u001b[0;34m.\u001b[0m\u001b[0mshape\u001b[0m\u001b[0;34m[\u001b[0m\u001b[0;36m1\u001b[0m\u001b[0;34m]\u001b[0m\u001b[0;34m\u001b[0m\u001b[0;34m\u001b[0m\u001b[0m\n",
            "\u001b[0;32m/usr/local/lib/python3.7/dist-packages/sklearn/utils/validation.py\u001b[0m in \u001b[0;36mcheck_array\u001b[0;34m(array, accept_sparse, accept_large_sparse, dtype, order, copy, force_all_finite, ensure_2d, allow_nd, ensure_min_samples, ensure_min_features, warn_on_dtype, estimator)\u001b[0m\n\u001b[1;32m    554\u001b[0m                     \u001b[0;34m\"Reshape your data either using array.reshape(-1, 1) if \"\u001b[0m\u001b[0;34m\u001b[0m\u001b[0;34m\u001b[0m\u001b[0m\n\u001b[1;32m    555\u001b[0m                     \u001b[0;34m\"your data has a single feature or array.reshape(1, -1) \"\u001b[0m\u001b[0;34m\u001b[0m\u001b[0;34m\u001b[0m\u001b[0m\n\u001b[0;32m--> 556\u001b[0;31m                     \"if it contains a single sample.\".format(array))\n\u001b[0m\u001b[1;32m    557\u001b[0m \u001b[0;34m\u001b[0m\u001b[0m\n\u001b[1;32m    558\u001b[0m         \u001b[0;31m# in the future np.flexible dtypes will be handled like object dtypes\u001b[0m\u001b[0;34m\u001b[0m\u001b[0;34m\u001b[0m\u001b[0;34m\u001b[0m\u001b[0m\n",
            "\u001b[0;31mValueError\u001b[0m: Expected 2D array, got 1D array instead:\narray=[1 1 1].\nReshape your data either using array.reshape(-1, 1) if your data has a single feature or array.reshape(1, -1) if it contains a single sample."
          ]
        }
      ]
    },
    {
      "cell_type": "code",
      "metadata": {
        "colab": {
          "base_uri": "https://localhost:8080/"
        },
        "id": "Mzs06EeqZrrv",
        "outputId": "fcaa69f0-ca91-4fc7-eb32-1026d8d6bf77"
      },
      "source": [
        "animal_misterioso = [1,1,1]\n",
        "model.predict([animal_misterioso])"
      ],
      "execution_count": 8,
      "outputs": [
        {
          "output_type": "execute_result",
          "data": {
            "text/plain": [
              "array([0])"
            ]
          },
          "metadata": {
            "tags": []
          },
          "execution_count": 8
        }
      ]
    },
    {
      "cell_type": "markdown",
      "metadata": {
        "id": "qTr9i91kZwDh"
      },
      "source": [
        "Executaremos o código e teremos como resultado array([0]), isto é, cachorro.\n",
        "\n",
        "Podemos fazer o mesmo procedimento com diversos animais: criaremos misterio1 , misterio2 e misterio3 cujos valores serão, respectivamente, [1,1,1],[1,1,0] e [0,1,1]. Trataremos todos esses casos como teste, e acionaremos o método predict()."
      ]
    },
    {
      "cell_type": "code",
      "metadata": {
        "colab": {
          "base_uri": "https://localhost:8080/"
        },
        "id": "hW6x-13CZxVA",
        "outputId": "b1944bd1-b5fa-4f65-bfec-ee55bb352d3f"
      },
      "source": [
        "misterio1 = [1,1,1]\n",
        "misterio2 = [1,1,0]\n",
        "misterio3 = [0,1,1]\n",
        "\n",
        "testes = [misterio1, misterio2, misterio3]\n",
        "model.predict(testes)"
      ],
      "execution_count": 9,
      "outputs": [
        {
          "output_type": "execute_result",
          "data": {
            "text/plain": [
              "array([0, 1, 0])"
            ]
          },
          "metadata": {
            "tags": []
          },
          "execution_count": 9
        }
      ]
    },
    {
      "cell_type": "markdown",
      "metadata": {
        "id": "5-adGskLZ1PV"
      },
      "source": [
        "Ao executarmos o código, teremos como resultado ([0, 1, 0]), isto é, cachorro, porco e cachorro. Mas, na verdade, esses animais já tinham uma classe definida que não foi revelada antes do teste: se tratavam de um cachorro e dois porcos ([0,1,1]). Neste caso, o algorítimo errou 1 de 3. Qual sua taxa de acerto então?\n",
        "\n",
        "A taxa de acerto é uma das medidas mais básicas de um modelo, e serve para analisarmos quantas classificações o nosso algorítimo foi capaz de acertar dentro de um determinado conjunto de daods.\n",
        "\n",
        "Vamos atribuir o resultado da previsao (predict()) a uma variável, que chamaremos de previsoes (e que equivalem a [0, 1, 0]). O valor real, que tínhamos previamente, será chamado deteste_classes."
      ]
    },
    {
      "cell_type": "code",
      "metadata": {
        "id": "K5bjHdwqZ3Jb"
      },
      "source": [
        "misterio1 = [1,1,1]\n",
        "misterio2 = [1,1,0]\n",
        "misterio3 = [0,1,1]\n",
        "\n",
        "testes = [misterio1, misterio2, misterio3]\n",
        "previsoes = model.predict(testes)\n",
        "\n",
        "testes_classes = [0, 1, 1]"
      ],
      "execution_count": 10,
      "outputs": []
    },
    {
      "cell_type": "markdown",
      "metadata": {
        "id": "sT5AAMUtZ55M"
      },
      "source": [
        "Após executarmos esse código, podemos extrair o valor de cada variável escrevendo somente o nome dela na área de trabalho. Se escrevermos previsoes, por exemplo, obteremos [0, 1, 0]; já se escrevermos testes_classes, teremos [0, 1, 1].\n",
        "\n",
        "Ao executarmos o código, teremos as previsões de [0, 1, 0]. Se executarmos sem o print, é exibido o resultado da última linha:\n",
        "\n",
        "Nosso objetivo é coletar os elementos desses arrays e compará-los um a um. Portanto, escreveremos previsoes == testes_classes e teremos o seguinte resultado:"
      ]
    },
    {
      "cell_type": "markdown",
      "metadata": {
        "id": "B0o4mRFiaIp0"
      },
      "source": [
        "Por que isso ocorreu? Na verdade, previsoes não é uma lista do Python, mas testes_classes sim. A variável previsoes é um array, pois o Scikit-learn utiliza internamente a biblioteca Numpy, que por sua vez facilita diversos processos numéricos, entre eles a comparação de elementos. Por isso, basta simplesmente compararmos as duas arrays (previsoes == testes_classes) e teremos como resposta um outro array do Numpy (array([ True, True, False])) que contém os verdadeiros e falsos. O interessante é que podemos ainda somar um array do Numpy, evocando o método (sum()):"
      ]
    },
    {
      "cell_type": "code",
      "metadata": {
        "id": "9cVryxtoaLMe"
      },
      "source": [
        "corretos = (previsoes == testes_classes).sum()"
      ],
      "execution_count": 12,
      "outputs": []
    },
    {
      "cell_type": "markdown",
      "metadata": {
        "id": "bBKAbYsRaOLN"
      },
      "source": [
        "Sabemos que o resultado será 2, mas esse valor não será impresso porque trata-se de uma atribuição. Em seguida, inseriremos o tamanho de testes, isto é len(testes), atribuindo esse valor a uma variável total. A taxa_de_acerto será corretos/total (o número de previsões corretas dividido pelo total de previsões), e então imprimimos o resultado utilizando print(\"Taxa de acerto: \", taxa_de_acerto)."
      ]
    },
    {
      "cell_type": "code",
      "metadata": {
        "colab": {
          "base_uri": "https://localhost:8080/"
        },
        "id": "jB7qB03WaO79",
        "outputId": "40256255-f471-441a-e952-0483c0f7402f"
      },
      "source": [
        "corretos = (previsoes == testes_classes).sum()\n",
        "total = len(testes)\n",
        "taxa_de_acerto = corretos/total\n",
        "print(\"Taxa de acerto \", taxa_de_acerto)"
      ],
      "execution_count": 13,
      "outputs": [
        {
          "output_type": "stream",
          "text": [
            "Taxa de acerto  0.6666666666666666\n"
          ],
          "name": "stdout"
        }
      ]
    },
    {
      "cell_type": "markdown",
      "metadata": {
        "id": "8fFOTePPaTLQ"
      },
      "source": [
        "Na tela, teremos o resultado Taxa de acerto: 0.666666666666666. Como gostaríamos de analisar esse número em termos de porcentagem, multiplicaremos esse valor por 100:"
      ]
    },
    {
      "cell_type": "code",
      "metadata": {
        "colab": {
          "base_uri": "https://localhost:8080/"
        },
        "id": "WgWA8olMaUcl",
        "outputId": "ec6b3175-0a29-40a3-a9a9-e3312812bf9f"
      },
      "source": [
        "corretos = (previsoes == testes_classes).sum()\n",
        "total = len(testes)\n",
        "taxa_de_acerto = corretos/total\n",
        "print(\"Taxa de acerto \", taxa_de_acerto *100)"
      ],
      "execution_count": 14,
      "outputs": [
        {
          "output_type": "stream",
          "text": [
            "Taxa de acerto  66.66666666666666\n"
          ],
          "name": "stdout"
        }
      ]
    },
    {
      "cell_type": "markdown",
      "metadata": {
        "id": "IdbxBjKRaXBz"
      },
      "source": [
        "Nosso resultado passará a ser 66.66 como taxa de acerto.\n",
        "\n",
        "Temos um modelo que foi treinado com os dados e imprimimos a taxa de acerto, contudo muitas vezes o código que executamos será feito em outros projetos para avaliar a taxa de acerto dos algorítimos. Nas bibliotecas comuns do Python, como o scikit-learn, existem funções que tentam medir a taxa de acerto.\n",
        "\n",
        "Essa taxa de acerto, em inglês, é chamada de accuracy (em português, \"acurácia\"). Existe uma medida, a accuracy_score, que já existe no Sklearn e pode ser importada facilmente do módulo metrics:"
      ]
    },
    {
      "cell_type": "code",
      "metadata": {
        "id": "bMUD1pdcaZfE"
      },
      "source": [
        "from sklearn.metrics import accuracy_score"
      ],
      "execution_count": 15,
      "outputs": []
    },
    {
      "cell_type": "markdown",
      "metadata": {
        "id": "ZR_MJ-GLaczT"
      },
      "source": [
        "Ao pesquisarmos, por exemplo, \"Sklearn accuracy score\", acharamos facilmente na documentação do Sklearn o sklearn.metrics.accuracy_score, com explicações detalhadas e exemplos de uso.\n",
        "\n",
        "Em nosso caso, estipularemos que taxa_de_acerto será a nota atribuída pelo accuracy_score, que receberá como parâmetros primeiramente os valores verdadeiros e depois os previstos, como podemos verificar na documentação. Logo:"
      ]
    },
    {
      "cell_type": "code",
      "metadata": {
        "colab": {
          "base_uri": "https://localhost:8080/"
        },
        "id": "bqJLbwv2aeAy",
        "outputId": "c4823585-314a-4380-cd17-82c410405785"
      },
      "source": [
        "\n",
        "from sklearn.metrics import accuracy_score\n",
        "\n",
        "taxa_de_acerto = accuracy_score(testes_classes, previsoes)\n",
        "print(\"Taxa de acerto\", taxa_de_acerto * 100)"
      ],
      "execution_count": 16,
      "outputs": [
        {
          "output_type": "stream",
          "text": [
            "Taxa de acerto 66.66666666666666\n"
          ],
          "name": "stdout"
        }
      ]
    },
    {
      "cell_type": "markdown",
      "metadata": {
        "id": "FTsi64ppahyX"
      },
      "source": [
        "Teremos o resultado, em porcentagem, de 66.66. Nas próximas aulas melhoraremos mais esse código, refinando alguns elementos do padrão, e também verificaremos exemplos mais complexos com conjuntos maiores de dados."
      ]
    },
    {
      "cell_type": "markdown",
      "metadata": {
        "id": "YfJI7U8ZarmA"
      },
      "source": [
        "05\n",
        "Padronização de nomes"
      ]
    },
    {
      "cell_type": "markdown",
      "metadata": {
        "id": "Jkseq2VFas9z"
      },
      "source": [
        "Já criamos um modelo que foi treinado e testado, mas alguns nomes de variáveis precisam ser refinados. Temos seis itens diferentes, e cada um deles possui três features divergentes. Tais itens foram inseridos em um conjunto que chamamos de dados."
      ]
    },
    {
      "cell_type": "code",
      "metadata": {
        "id": "v0VlwmJDawvQ"
      },
      "source": [
        "# features (1 sim, 0 não)\n",
        "# pelo longo?\n",
        "# perna curta?\n",
        "# faz auau? \n",
        "\n",
        "porco1 = [0, 1, 0]\n",
        "porco2 = [0, 1, 1]\n",
        "porco3 = [1, 1, 0]\n",
        "\n",
        "cachorro1 = [0, 1, 1]\n",
        "cachorro2 = [1, 0, 1]\n",
        "cachorro3 = [1, 1, 1]\n",
        "\n",
        "# 1 => porco, 0 => cachorro\n",
        "dados = [porco1, porco2,  porco3, cachorro1, cachorro2, cachorro3]\n",
        "classes = [1,1,1,0,0,0]"
      ],
      "execution_count": 17,
      "outputs": []
    },
    {
      "cell_type": "markdown",
      "metadata": {
        "id": "8DnYh8XSaz37"
      },
      "source": [
        "Porém, dados é um nome muito genérico. Literalmente qualquer coisa pode ser chamada de \"dado\", como o nome de um modelo de celular, por exemplo. De forma geral, os dados, que constituem um conjunto de features que serão analisados, são pensados como uma função matemática - ou seja, o modelo funciona como uma função matemática.\n",
        "\n",
        "Portanto, chamaremos nosso modelo de f() e passaremos para ele os dados(x). O modelo nos devolverá y, isto é, a classe. Dessa forma, f(x) = y.\n",
        "\n",
        "Contudo, o x e y estão sendo usados somente para treinar o algorítimo. Logo, usaremos os nomes treino_x e treino_y. Em inglês, é comum encontrar esses nomes como train_x e train_y. As classes muitas vezes são chamadas de labels, ou seja, etiquetas, afinal teremos classificações para cada um dos itens analisados."
      ]
    },
    {
      "cell_type": "code",
      "metadata": {
        "id": "Jh8ZQhINa3xl"
      },
      "source": [
        "# 1 => porco, 0 => cachorro\n",
        "treino_x = [porco1, porco2,  porco3, cachorro1, cachorro2, cachorro3]\n",
        "treino_y = [1,1,1,0,0,0] # labels / etiquetas"
      ],
      "execution_count": 18,
      "outputs": []
    },
    {
      "cell_type": "markdown",
      "metadata": {
        "id": "sgFhgj2Na6MV"
      },
      "source": [
        "Adiante seguiremos alterando dados e classes para treino_x e treino_y_."
      ]
    },
    {
      "cell_type": "code",
      "metadata": {
        "colab": {
          "base_uri": "https://localhost:8080/"
        },
        "id": "ST3bmvlia9px",
        "outputId": "19ef7e95-23fc-445f-de70-079ff998a9a1"
      },
      "source": [
        "from sklearn.svm import LinearSVC\n",
        "\n",
        "model = LinearSVC()\n",
        "model.fit(treino_x, treino_y)"
      ],
      "execution_count": 19,
      "outputs": [
        {
          "output_type": "execute_result",
          "data": {
            "text/plain": [
              "LinearSVC(C=1.0, class_weight=None, dual=True, fit_intercept=True,\n",
              "          intercept_scaling=1, loss='squared_hinge', max_iter=1000,\n",
              "          multi_class='ovr', penalty='l2', random_state=None, tol=0.0001,\n",
              "          verbose=0)"
            ]
          },
          "metadata": {
            "tags": []
          },
          "execution_count": 19
        }
      ]
    },
    {
      "cell_type": "markdown",
      "metadata": {
        "id": "VMp1nH80bA_f"
      },
      "source": [
        "Adiante teremos:"
      ]
    },
    {
      "cell_type": "code",
      "metadata": {
        "id": "G2UV9VdPbDnz"
      },
      "source": [
        "misterio1 = [1,1,1]\n",
        "misterio2 = [1,1,0]\n",
        "misterio3 = [0,1,1]\n",
        "\n",
        "testes = [misterio1, misterio2, misterio3]\n",
        "previsoes = model.predict(testes)\n",
        "\n",
        "teste_classes = [0, 1, 1]"
      ],
      "execution_count": 20,
      "outputs": []
    },
    {
      "cell_type": "markdown",
      "metadata": {
        "id": "z5tbmtiybHsa"
      },
      "source": [
        "Alteraremos testes para x , o padrão que temos para funções. Mas dessa vez não estamos mais treinando o algorítimo, e sim o testando, portanto usaremos teste_x. Modificaremos, ainda, teste_classes para teste_y."
      ]
    },
    {
      "cell_type": "code",
      "metadata": {
        "id": "Smj-79THbDrn"
      },
      "source": [
        "misterio1 = [1,1,1]\n",
        "misterio2 = [1,1,0]\n",
        "misterio3 = [0,1,1]\n",
        "\n",
        "teste_x = [misterio1, misterio2, misterio3]\n",
        "previsoes = model.predict(testes)\n",
        "\n",
        "teste_y = [0, 1, 1]"
      ],
      "execution_count": 21,
      "outputs": []
    },
    {
      "cell_type": "markdown",
      "metadata": {
        "id": "cjJUgWXSbN8y"
      },
      "source": [
        "Para não tornarmos nosso código confuso, alocaremos teste_y- as classes atreladas a cada item - para mais próximo de teste_x. Mais abaixo estarão localizadas as previsoes que serão realizadas por meio de teste_x."
      ]
    },
    {
      "cell_type": "code",
      "metadata": {
        "id": "CNNgLIcxbQdv"
      },
      "source": [
        "misterio1 = [1,1,1]\n",
        "misterio2 = [1,1,0]\n",
        "misterio3 = [0,1,1]\n",
        "\n",
        "teste_x = [misterio1, misterio2, misterio3]\n",
        "teste_y = [0, 1, 1]\n",
        "\n",
        "previsoes = model.predict(teste_x)"
      ],
      "execution_count": 22,
      "outputs": []
    },
    {
      "cell_type": "markdown",
      "metadata": {
        "id": "7JuH5waFbUPC"
      },
      "source": [
        "Mais adiante no código, temos a comparação entre previsoes e teste_classe, que alteraremos para teste_y. Além disso, modificaremos len(testes) para len(teste_x)"
      ]
    },
    {
      "cell_type": "code",
      "metadata": {
        "colab": {
          "base_uri": "https://localhost:8080/"
        },
        "id": "-3Sq55qobWTc",
        "outputId": "d7ecb144-e2da-40e4-b63c-3856cb2dfa76"
      },
      "source": [
        "\n",
        "corretos = (previsoes == teste_y).sum()\n",
        "total = len(teste_x)\n",
        "taxa_de_acerto = corretos/total \n",
        "print(\"Taxa de acerto: \", taxa_de_acerto * 100)"
      ],
      "execution_count": 23,
      "outputs": [
        {
          "output_type": "stream",
          "text": [
            "Taxa de acerto:  66.66666666666666\n"
          ],
          "name": "stdout"
        }
      ]
    },
    {
      "cell_type": "markdown",
      "metadata": {
        "id": "igpb8_7kbZsm"
      },
      "source": [
        "Adiante, alteraremos testes_classes para teste_y:"
      ]
    },
    {
      "cell_type": "code",
      "metadata": {
        "id": "zBQW4gpfbbDd"
      },
      "source": [
        "from sklearn.metrics import accuracy_score\n",
        "\n",
        "taxa_de_acerto = accuracy_score(teste_y, previsoes)\n",
        "print(\"Taxa de acerto\", taxa_de_acerto * 100)"
      ],
      "execution_count": null,
      "outputs": []
    },
    {
      "cell_type": "markdown",
      "metadata": {
        "id": "YBhpATYIbct5"
      },
      "source": [
        "Devemos executar todos os códigos novamente. Para isso, podemos simplesmente ir até o topo do documento e, segurando \"Shift\", pressionar várias vezes a tecla \"Enter\".\n",
        "\n",
        "Porém, uma boa prática é reinicializarmos o runtime para apagarmos as variáveis que haviam sido criadas no Python anteriormente. Faremos isso clicando em \"Runtime > Restart Runtime\" no cabeçalho. Na janela de verificação que se abre, clicaremos em \"Ok\". Desse modo, pressionaremos o \"Shift + Enter\" várias vezes para executar cada bloco de código em sequência.\n",
        "\n",
        "Faremos uma pequena alteração na impressão do resultado da taxa de acerto, inserindo a formatação de ponto flutuante com duas casas decimais:"
      ]
    },
    {
      "cell_type": "code",
      "metadata": {
        "colab": {
          "base_uri": "https://localhost:8080/"
        },
        "id": "rAhWW0HybfTk",
        "outputId": "ac7edd3b-af83-4cad-e26d-301795e6c5f4"
      },
      "source": [
        "corretos = (previsoes == teste_y).sum()\n",
        "total = len(teste_x)\n",
        "taxa_de_acerto = corretos/total \n",
        "print(\"Taxa de acerto %.2f \" % (taxa_de_acerto * 100))"
      ],
      "execution_count": 24,
      "outputs": [
        {
          "output_type": "stream",
          "text": [
            "Taxa de acerto 66.67 \n"
          ],
          "name": "stdout"
        }
      ]
    },
    {
      "cell_type": "code",
      "metadata": {
        "colab": {
          "base_uri": "https://localhost:8080/"
        },
        "id": "ukJnBW3GbhVM",
        "outputId": "c8eaff2f-a693-4517-cffc-817933e3c565"
      },
      "source": [
        "from sklearn.metrics import accuracy_score\n",
        "\n",
        "taxa_de_acerto = accuracy_score(teste_y, previsoes)\n",
        "print(\"Taxa de acerto %.2f \" % (taxa_de_acerto * 100))"
      ],
      "execution_count": 25,
      "outputs": [
        {
          "output_type": "stream",
          "text": [
            "Taxa de acerto 66.67 \n"
          ],
          "name": "stdout"
        }
      ]
    },
    {
      "cell_type": "markdown",
      "metadata": {
        "id": "l66OTb1mbmhW"
      },
      "source": [
        "Dessa forma, temos um código mais limpo, com os nomes de variáveis que utilizamos em projetos reais. No próximo exemplo trabalharemos com um modelo com mais dados para serem analisados."
      ]
    },
    {
      "cell_type": "markdown",
      "metadata": {
        "id": "acfXYuXybqzd"
      },
      "source": [
        "06\n",
        "Treinando"
      ]
    },
    {
      "cell_type": "markdown",
      "metadata": {
        "id": "WlmJLpQ-bsY6"
      },
      "source": [
        "Teste: Definir um modelo de treino, definir uma lista com dados para treino e dados com os resultados esperados, treinar com base na lista de dados e nos resultados esperados.\n",
        "\n",
        "\n",
        "Com a definição do modelo para treino e com as listas de dados para treino e para teste, nós conseguimos efetuar o treinamento."
      ]
    },
    {
      "cell_type": "markdown",
      "metadata": {
        "id": "1vmyLObXb1Ig"
      },
      "source": [
        "08\n",
        "O que aprendemos?\n",
        "\n",
        "Treinar algoritmos;\n",
        "Definir características (features) do que desejamos classificar;\n",
        "Classificar em categorias;\n",
        "Utilizar o módulo linearSVC e accuracy_score;\n",
        "Utilizar o método fit;\n",
        "Prever dados com a função predict;\n",
        "Calcular a taxa de acerto do modelo;\n",
        "Comparar testes e previsões;\n",
        "Utilizar a função soma;\n",
        "Padronizar variáveis;"
      ]
    }
  ]
}